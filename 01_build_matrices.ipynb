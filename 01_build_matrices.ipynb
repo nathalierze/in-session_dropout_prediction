{
 "cells": [
  {
   "cell_type": "code",
   "execution_count": 1,
   "metadata": {},
   "outputs": [],
   "source": [
    "import seaborn as sns\n",
    "import numpy as np\n",
    "import pandas as pd\n",
    "import warnings\n",
    "import pickle\n",
    "\n",
    "# Ignore the warning message\n",
    "warnings.filterwarnings(\"ignore\", category=FutureWarning)"
   ]
  },
  {
   "cell_type": "code",
   "execution_count": 2,
   "metadata": {},
   "outputs": [],
   "source": [
    "# load data\n",
    "infile = open(\"dropout_prediction_data.pkl\", \"rb\")\n",
    "df = pickle.load(infile)\n",
    "infile.close()"
   ]
  },
  {
   "cell_type": "code",
   "execution_count": 3,
   "metadata": {},
   "outputs": [],
   "source": [
    "# group data by session\n",
    "df_grouped = df.groupby(\"UebungsID\").agg(\n",
    "    {\n",
    "        \"ID\": \"count\",\n",
    "        \"Erstloesung\": \"sum\",\n",
    "        \"Schussel\": \"sum\",\n",
    "        \"Erfolg\": \"sum\",\n",
    "        \"Schwierigkeit\": \"mean\",\n",
    "        \"ist_Schulzeit\": \"first\",\n",
    "        \"MehrfachFalsch\": \"first\",\n",
    "        \"vorher_abgebrochen\": \"first\",\n",
    "        \"y\": \"first\",\n",
    "        \"UserAttribut\": \"first\",\n",
    "        \"Klassenstufe\": \"first\",\n",
    "        \"Jahredabei\": \"first\",\n",
    "        \"AnzahlAufgaben\": \"first\",\n",
    "        \"Art__GK\": \"first\",\n",
    "        \"Art__GR\": \"first\",\n",
    "        \"Art__GZ\": \"first\",\n",
    "        \"Art__K\": \"first\",\n",
    "        \"Art__LB\": \"first\",\n",
    "        \"HA__HA\": \"first\",\n",
    "        \"HA__Self\": \"first\",\n",
    "        \"HA__nt\": \"first\",\n",
    "        \"HA__vt\": \"first\",\n",
    "        \"HA__zt\": \"first\",\n",
    "        \"Sex__m\": \"first\",\n",
    "        \"Sex__w\": \"first\",\n",
    "        \"Testposition__pruefung\": \"sum\",\n",
    "        \"Testposition__training\": \"sum\",\n",
    "        \"Testposition__version\": \"sum\",\n",
    "        \"OrderNumber\": \"max\",\n",
    "        \"steps\": \"max\",\n",
    "    }\n",
    ")\n",
    "\n",
    "df_grouped[\"Fehler\"] = df_grouped[\"ID\"] - df_grouped[\"Erfolg\"]\n",
    "df_grouped = df_grouped.reset_index()\n",
    "\n",
    "# balance out dataset\n",
    "df_grouped_1 = df_grouped[df_grouped.y == 1]\n",
    "df_grouped_0 = df_grouped[df_grouped.y == 0]\n",
    "df_grouped_1 = df_grouped_1.sample(n=100000)\n",
    "df_grouped = df_grouped_1.append(df_grouped_0)\n",
    "ids = df_grouped[[\"UebungsID\"]]\n",
    "df = pd.merge(df, ids, on=\"UebungsID\")"
   ]
  },
  {
   "cell_type": "code",
   "execution_count": 6,
   "metadata": {},
   "outputs": [],
   "source": [
    "# build pickle file for each matrix\n",
    "df_1 = df.loc[df[\"OrderNumber\"] == 1]\n",
    "df_1.to_pickle(\"matrices_allsessions/matrix1.pkl\")\n",
    "\n",
    "n = list(range(2, 61))\n",
    "\n",
    "for x in n:\n",
    "    df_x = df.loc[df[\"OrderNumber\"] < (x + 1)]\n",
    "    df_x = df_x.groupby(\"UebungsID\").agg(\n",
    "        {\n",
    "            \"ID\": \"count\",\n",
    "            \"Erstloesung\": \"sum\",\n",
    "            \"Schussel\": \"sum\",\n",
    "            \"Erfolg\": \"sum\",\n",
    "            \"Schwierigkeit\": \"mean\",\n",
    "            \"ist_Schulzeit\": \"first\",\n",
    "            \"MehrfachFalsch\": \"first\",\n",
    "            \"vorher_abgebrochen\": \"first\",\n",
    "            \"y\": \"first\",\n",
    "            \"UserAttribut\": \"first\",\n",
    "            \"Fehler\": \"first\",\n",
    "            \"Klassenstufe\": \"first\",\n",
    "            \"Jahredabei\": \"first\",\n",
    "            \"AnzahlAufgaben\": \"first\",\n",
    "            \"Art__GK\": \"first\",\n",
    "            \"Art__GR\": \"first\",\n",
    "            \"Art__GZ\": \"first\",\n",
    "            \"Art__K\": \"first\",\n",
    "            \"Art__LB\": \"first\",\n",
    "            \"HA__HA\": \"first\",\n",
    "            \"HA__Self\": \"first\",\n",
    "            \"HA__nt\": \"first\",\n",
    "            \"HA__vt\": \"first\",\n",
    "            \"HA__zt\": \"first\",\n",
    "            \"Sex__m\": \"first\",\n",
    "            \"Sex__w\": \"first\",\n",
    "            \"Testposition__pruefung\": \"sum\",\n",
    "            \"Testposition__training\": \"sum\",\n",
    "            \"Testposition__version\": \"sum\",\n",
    "            \"OrderNumber\": \"max\",\n",
    "            \"steps\": \"max\",\n",
    "        }\n",
    "    )\n",
    "\n",
    "    df_x = df_x.loc[df_x[\"ID\"] == x]\n",
    "    path = \"matrices_allsessions/matrix\" + str(x) + \".pkl\"\n",
    "    df_x.to_pickle(path)"
   ]
  },
  {
   "cell_type": "code",
   "execution_count": 6,
   "metadata": {},
   "outputs": [
    {
     "data": {
      "text/plain": [
       "<AxesSubplot:xlabel='Sentence Number', ylabel='Count of Sentences'>"
      ]
     },
     "execution_count": 6,
     "metadata": {},
     "output_type": "execute_result"
    },
    {
     "data": {
      "image/png": "[encoded data removed]",
      "text/plain": [
       "<Figure size 432x288 with 1 Axes>"
      ]
     },
     "metadata": {
      "needs_background": "light"
     },
     "output_type": "display_data"
    }
   ],
   "source": [
    "# plot count of matrics per n\n",
    "n = list(range(2, 61))\n",
    "sentence_len = pd.DataFrame(columns=[\"Sentence Number\", \"Count of Sentences\"])\n",
    "\n",
    "for x in n:\n",
    "    path = \"matrices_allsessions/matrix\" + str(x) + \".pkl\"\n",
    "    infile = open(path, \"rb\")\n",
    "    get_length = pickle.load(infile)\n",
    "    infile.close()\n",
    "    l = len(get_length)\n",
    "    sentence_len = sentence_len.append(\n",
    "        {\"Sentence Number\": x, \"Count of Sentences\": l}, ignore_index=True\n",
    "    )\n",
    "\n",
    "sentence_len[\"Sentence Number\"] = sentence_len[\"Sentence Number\"].astype(\"int\")\n",
    "sentence_len[\"Count of Sentences\"] = sentence_len[\"Count of Sentences\"].astype(\"int\")\n",
    "sns.lineplot(\n",
    "    data=sentence_len, x=\"Sentence Number\", y=\"Count of Sentences\", color=\"#518177\"\n",
    ")"
   ]
  }
 ],
 "metadata": {
  "kernelspec": {
   "display_name": "Python 3.10.2 64-bit",
   "language": "python",
   "name": "python3"
  },
  "language_info": {
   "codemirror_mode": {
    "name": "ipython",
    "version": 3
   },
   "file_extension": ".py",
   "mimetype": "text/x-python",
   "name": "python",
   "nbconvert_exporter": "python",
   "pygments_lexer": "ipython3",
   "version": "3.10.2"
  },
  "orig_nbformat": 4,
  "vscode": {
   "interpreter": {
    "hash": "369f2c481f4da34e4445cda3fffd2e751bd1c4d706f27375911949ba6bb62e1c"
   }
  }
 },
 "nbformat": 4,
 "nbformat_minor": 2
}
