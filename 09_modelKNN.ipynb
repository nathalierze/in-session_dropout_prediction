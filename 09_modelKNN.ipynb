{
 "cells": [
  {
   "cell_type": "code",
   "execution_count": 1,
   "metadata": {},
   "outputs": [],
   "source": [
    "import pandas as pd\n",
    "import pickle\n",
    "import seaborn as sns\n",
    "import numpy as np\n",
    "from sklearn.tree import DecisionTreeClassifier\n",
    "from sklearn.model_selection import train_test_split \n",
    "from sklearn import metrics \n",
    "from sklearn.neighbors import KNeighborsClassifier\n",
    "from sklearn import svm\n",
    "from sklearn import tree\n",
    "from matplotlib import pyplot as plt\n",
    "from sklearn.model_selection import cross_val_score\n",
    "from sklearn.model_selection import KFold\n",
    "from sklearn.linear_model import LinearRegression\n",
    "from numpy import mean\n",
    "from numpy import absolute\n",
    "from numpy import sqrt\n",
    "from sklearn.preprocessing import StandardScaler\n",
    "from sklearn.model_selection import train_test_split\n",
    "from sklearn.inspection import permutation_importance\n",
    "\n",
    "from sklearn.linear_model import LogisticRegression\n",
    "from sklearn.metrics import log_loss, roc_auc_score, recall_score, precision_score, average_precision_score, f1_score, classification_report, accuracy_score, plot_roc_curve, plot_precision_recall_curve, plot_confusion_matrix"
   ]
  },
  {
   "cell_type": "code",
   "execution_count": 2,
   "metadata": {},
   "outputs": [],
   "source": [
    "# KNN\n",
    "def KNN(i,y_test,x_test):\n",
    "\n",
    "    knn = KNeighborsClassifier(n_neighbors=2)\n",
    "    knn = knn.fit(X_train, y_train)\n",
    "    \n",
    "    scores_a = cross_val_score(knn, X, y, scoring='accuracy', cv=cv, n_jobs=-1)\n",
    "    a = mean(absolute(scores_a))\n",
    "\n",
    "    scores_p = cross_val_score(knn, X, y, scoring='precision', cv=cv, n_jobs=-1)\n",
    "    p = mean(absolute(scores_p))\n",
    "\n",
    "    scores_r = cross_val_score(knn, X, y, scoring='recall', cv=cv, n_jobs=-1)\n",
    "    r = mean(absolute(scores_r))\n",
    "\n",
    "    scores_f1 = cross_val_score(knn, X, y, scoring='f1', cv=cv, n_jobs=-1)\n",
    "    f1 = mean(absolute(scores_f1))\n",
    "\n",
    "    y_pred = knn.predict_proba(x_test)[:, 1]\n",
    "    auc = metrics.roc_auc_score(y_test, y_pred)\n",
    "\n",
    "    probs = knn.predict_proba(x_test)\n",
    "\n",
    "    # perform permutation importance\n",
    "    results = permutation_importance(knn, X, y, scoring='neg_mean_squared_error')\n",
    "\n",
    "\n",
    "    return a,p,r,f1,auc,probs,results"
   ]
  },
  {
   "cell_type": "code",
   "execution_count": 3,
   "metadata": {},
   "outputs": [],
   "source": [
    "accuracyKNN= pd.DataFrame(columns=['Sentence', 'Accuracy', 'Precision', 'Recall', 'F1', 'AUC'])\n",
    "featureImportance= pd.DataFrame(columns=['Sentence', 'Feature', 'Score'])\n",
    "\n",
    "n = [2,3,4,5,6,7,8,9,10,11,12,13,14,15,16,17,18,19,20,21,22,23,24,25,26,27,28,29,30,31,32,33,34,35,36,37,38,39,40,41,42,43,44,45,46,47,48,49,50,51,52,53,54,55,56,57,58,59,60]#\n",
    "feature_cols = ['Erstloesung','Schussel','Erfolg', 'Schwierigkeit', 'ist_Schulzeit', 'MehrfachFalsch', 'vorher_abgebrochen','Fehler', 'Klassenstufe', 'Jahredabei', 'AnzahlAufgaben', 'Sex__m', 'Sex__w', 'Testposition__pruefung', 'Testposition__training','Testposition__version', 'Art__GK', 'Art__GR', 'Art__GZ', 'Art__K', 'Art__LB','UserAttribut', 'OrderNumber', 'steps']\n",
    "#\n",
    "for i in n:\n",
    "    path='matrices_allsessions/matrix'+str(i)+'.pkl'\n",
    "    infile = open(path,'rb')\n",
    "    df = pickle.load(infile)\n",
    "    infile.close()\n",
    "    df=df.reset_index()\n",
    "\n",
    "    #ax = sns.countplot(x='y',data=df)\n",
    "\n",
    "    X = df[feature_cols]\n",
    "    y = df.y\n",
    "    y= y.astype('int')\n",
    "    X_train, X_test, y_train, y_test = train_test_split(X, y, test_size=0.3, random_state=1)\n",
    "    k = 5\n",
    "    cv = KFold(n_splits=k, random_state=None)\n",
    "\n",
    "    infile = open('X_test55.pkl','rb')\n",
    "    X_test = pickle.load(infile)\n",
    "    infile.close()\n",
    "\n",
    "    infile = open('y_test55.pkl','rb')\n",
    "    y_test = pickle.load(infile)\n",
    "    infile.close()\n",
    "\n",
    "\n",
    "    a,p,r,f1,auc,probs,results = KNN(i,y_test, X_test)\n",
    "    accuracyKNN = accuracyKNN.append({'Sentence': i, 'Accuracy':a,'Precision': p, 'Recall':r, 'F1':f1, 'AUC':auc}, ignore_index=True)\n",
    "\n",
    "    # get importance\n",
    "    importance = results.importances_mean\n",
    "    # summarize feature importance\n",
    "    for k,v in enumerate(importance):\n",
    "        print('Feature: %0d, Score: %.5f' % (k,v))\n",
    "        featureImportance = featureImportance.append({'Sentence': i, 'Feature':k,'Score': v}, ignore_index=True)\n",
    "\n",
    "#accuracyKNN.to_pickle('accuracyKNN.pkl')\n",
    "featureImportance.to_pickle('featureImportanceKNN.pkl')"
   ]
  },
  {
   "cell_type": "code",
   "execution_count": 3,
   "metadata": {},
   "outputs": [
    {
     "data": {
      "image/png": "[encoded data removed]",
      "text/plain": [
       "<Figure size 432x288 with 1 Axes>"
      ]
     },
     "metadata": {
      "needs_background": "light"
     },
     "output_type": "display_data"
    },
    {
     "data": {
      "image/png": "[encoded data removed]",
      "text/plain": [
       "<Figure size 1440x360 with 1 Axes>"
      ]
     },
     "metadata": {
      "needs_background": "light"
     },
     "output_type": "display_data"
    }
   ],
   "source": [
    "path='featureImportance_groupedKNN.pkl'\n",
    "infile = open(path,'rb')\n",
    "featureImportance_grouped = pickle.load(infile)\n",
    "infile.close()\n",
    "\n",
    "# featureImportance_grouped = featureImportance.groupby('Feature').agg({'Score':['mean']})\n",
    "# print(featureImportance_grouped)\n",
    "# featureImportance_grouped.to_pickle('featureImportance_groupedKNN.pkl')\n",
    "ax = sns.barplot(x=featureImportance_grouped.index, y=featureImportance_grouped.Score['mean'], data=featureImportance_grouped)\n",
    "\n",
    "import matplotlib.pyplot as plt\n",
    "plt.figure(figsize=(20, 5))\n",
    "ax = sns.barplot(x=featureImportance_grouped.index, y=featureImportance_grouped.Score['mean'], data=featureImportance_grouped, color='#00338d')"
   ]
  },
  {
   "cell_type": "code",
   "execution_count": 24,
   "metadata": {},
   "outputs": [],
   "source": [
    "t = probs[:,:1].tolist()\n",
    "\n",
    "data_df = pd.DataFrame(t)\n",
    "data_df.to_pickle('KNN55.pkl')"
   ]
  },
  {
   "cell_type": "code",
   "execution_count": 25,
   "metadata": {},
   "outputs": [],
   "source": [
    "# sns.set_theme()\n",
    "\n",
    "# sns.lineplot(data=accuracyKNN, x=\"Sentence\", y=\"Accuracy\")\n",
    "# plt.show()\n",
    "\n",
    "# sns.lineplot(data=accuracyKNN, x=\"Sentence\", y=\"Precision\")\n",
    "# plt.show()\n",
    "\n",
    "# sns.lineplot(data=accuracyKNN, x=\"Sentence\", y=\"Recall\")\n",
    "# plt.show()\n",
    "\n",
    "# sns.lineplot(data=accuracyKNN, x=\"Sentence\", y=\"F1\")\n",
    "# plt.show()\n",
    "\n",
    "# sns.lineplot(data=accuracyKNN, x=\"Sentence\", y=\"AUC\")\n",
    "# plt.show()"
   ]
  }
 ],
 "metadata": {
  "kernelspec": {
   "display_name": "Python 3.10.2 64-bit",
   "language": "python",
   "name": "python3"
  },
  "language_info": {
   "codemirror_mode": {
    "name": "ipython",
    "version": 3
   },
   "file_extension": ".py",
   "mimetype": "text/x-python",
   "name": "python",
   "nbconvert_exporter": "python",
   "pygments_lexer": "ipython3",
   "version": "3.10.2"
  },
  "orig_nbformat": 4,
  "vscode": {
   "interpreter": {
    "hash": "369f2c481f4da34e4445cda3fffd2e751bd1c4d706f27375911949ba6bb62e1c"
   }
  }
 },
 "nbformat": 4,
 "nbformat_minor": 2
}
