{
 "cells": [
  {
   "cell_type": "code",
   "execution_count": 2,
   "metadata": {},
   "outputs": [],
   "source": [
    "import pandas as pd\n",
    "import pickle\n",
    "import seaborn as sns\n",
    "import numpy as np\n",
    "path = '##'"
   ]
  },
  {
   "attachments": {},
   "cell_type": "markdown",
   "metadata": {},
   "source": [
    "# Import table and keep relevant columns"
   ]
  },
  {
   "cell_type": "code",
   "execution_count": 2,
   "metadata": {},
   "outputs": [],
   "source": [
    "infile = open(path+'sitzungssummary.pkl','rb')\n",
    "sitzungen = pickle.load(infile)\n",
    "infile.close()\n",
    "sitzungen = sitzungen [['ID','UserID','UserAttribut','Art','HA','beendet','Fehler']]"
   ]
  },
  {
   "cell_type": "code",
   "execution_count": 3,
   "metadata": {},
   "outputs": [],
   "source": [
    "infile = open(path+'saetze.pkl','rb')\n",
    "saetze = pickle.load(infile)\n",
    "infile.close()\n",
    "saetze = saetze[['satzID','Schwierigkeit']]"
   ]
  },
  {
   "cell_type": "code",
   "execution_count": 4,
   "metadata": {},
   "outputs": [],
   "source": [
    "infile = open(path+'schueler2020only.pkl','rb')\n",
    "schueler = pickle.load(infile)\n",
    "infile.close()\n",
    "schueler = schueler[['ID','Geschlecht','Klassenstufe','Anmeldeklassenstufe','Aufgaben','Altaufgaben','done']]"
   ]
  },
  {
   "cell_type": "code",
   "execution_count": 5,
   "metadata": {},
   "outputs": [],
   "source": [
    "infile = open(path+'xmlsaetze.pkl','rb')\n",
    "xmlsaetze = pickle.load(infile)\n",
    "infile.close()\n",
    "xmlsaetze = xmlsaetze[['ID','UserID','UebungsID','Testposition','SatzID','Erstloesung','Schussel','Datum', 'Erfolg','Loesungsnr']]\n",
    "\n",
    "infile = open(path+'xmlsaetze_archiv.pkl','rb')\n",
    "xmlsaetze_archiv = pickle.load(infile)\n",
    "infile.close()\n",
    "xmlsaetze_archiv = xmlsaetze_archiv[['ID','UserID','UebungsID','Testposition','SatzID','Erstloesung','Schussel','Datum', 'Erfolg','Loesungsnr']]\n",
    "\n",
    "xmlsaetze = xmlsaetze.append(xmlsaetze_archiv)\n"
   ]
  },
  {
   "attachments": {},
   "cell_type": "markdown",
   "metadata": {},
   "source": [
    "# Clean tables"
   ]
  },
  {
   "cell_type": "code",
   "execution_count": 6,
   "metadata": {},
   "outputs": [],
   "source": [
    "sitzungen = sitzungen.dropna()\n",
    "sitzungen.rename(columns = {'ID':'UebungsID'}, inplace = True)\n",
    "# Userattribut: 1=Schüler; 0= Gast/ Lehrer\n",
    "sitzungen['UserAttribut'] = sitzungen['UserAttribut'].replace(['Schüler'],1)\n",
    "sitzungen['UserAttribut'] = sitzungen['UserAttribut'].replace(['Gast','Lehrer'],0)\n",
    "sitzungen[['UserAttribut']] = sitzungen[['UserAttribut']].astype('int16')\n",
    "#HA: bereinigung\n",
    "sitzungen['HA'] = sitzungen['HA'].replace(['frHA'],'Self')"
   ]
  },
  {
   "cell_type": "code",
   "execution_count": 7,
   "metadata": {},
   "outputs": [],
   "source": [
    "schueler.rename(columns = {'ID':'UserID'}, inplace = True)\n",
    "schueler['done'] = schueler['done'].astype('int16')\n",
    "#Geschlecht: bereinigung\n",
    "schueler['Geschlecht'] = schueler['Geschlecht'].replace(['m.'],'m')\n",
    "schueler['Geschlecht'] = schueler['Geschlecht'].replace(['w.','we'],'w')\n",
    "schueler['Geschlecht'] = schueler['Geschlecht'].replace(['d','wm'],np.nan)\n",
    "#Klassenstufe: nutze nur Klassenstufe 5-12\n",
    "options = ['5', '6','7','8','9','10','11','12'] \n",
    "schueler = schueler[schueler['Klassenstufe'].isin(options)] \n",
    "schueler['Klassenstufe'] = schueler['Klassenstufe'].astype('int')\n",
    "#Jahredabei: erstelle aus Klassenstufe - Anmeldeklassenstufe die Spalte Jahredabei\n",
    "schueler = schueler[schueler['Anmeldeklassenstufe'].isin(options)] \n",
    "schueler['Anmeldeklassenstufe'] = schueler['Anmeldeklassenstufe'].astype('int')\n",
    "schueler['Jahredabei'] = schueler['Klassenstufe'] - schueler['Anmeldeklassenstufe']\n",
    "#Anzahlaufgaben: erstelle Spalte, die angibt, wie viele Aufgaben dem User aktuell zugeordnet sind\n",
    "schueler['Aufgaben']=schueler['Aufgaben'].str.split()\n",
    "schueler['AnzahlAufgaben'] = schueler['Aufgaben'].str.len()\n",
    "schueler['AnzahlAufgaben'] = schueler['AnzahlAufgaben'].replace([np.nan],0)\n",
    "schueler['AnzahlAufgaben'] = schueler['AnzahlAufgaben'].astype('int')\n",
    "# Lösche \n",
    "schueler= schueler.drop(columns=['Anmeldeklassenstufe','Aufgaben','Altaufgaben'])"
   ]
  },
  {
   "cell_type": "code",
   "execution_count": 8,
   "metadata": {},
   "outputs": [],
   "source": [
    "#Merge xmlsaetze with saetze\n",
    "xmlsaetze.rename(columns = {'SatzID':'satzID'}, inplace = True)\n",
    "xmlsaetze= pd.merge(xmlsaetze, saetze, on='satzID', how='inner')\n",
    "xmlsaetze['Datum']= pd.to_datetime(xmlsaetze['Datum'])\n",
    "xmlsaetze['Uhrzeit'] = pd.DatetimeIndex(xmlsaetze['Datum']).hour\n",
    "xmlsaetze['Wochentag'] = pd.DatetimeIndex(xmlsaetze['Datum']).dayofweek\n",
    "xmlsaetze['Kalenderwoche'] = pd.DatetimeIndex(xmlsaetze['Datum']).strftime(\"%V\")\n",
    "xmlsaetze['Monat'] = pd.DatetimeIndex(xmlsaetze['Datum']).month\n",
    "xmlsaetze['Tag'] = pd.DatetimeIndex(xmlsaetze['Datum']).day\n",
    "\n",
    "def f(row):\n",
    "    if row['Uhrzeit'] > 14:\n",
    "        val = 0\n",
    "    elif row['Uhrzeit'] < 8:\n",
    "        val = 0\n",
    "    else:\n",
    "        val = 1\n",
    "    return val\n",
    "\n",
    "xmlsaetze['ist_Schulzeit'] = xmlsaetze.apply(f, axis=1)\n",
    "xmlsaetze = xmlsaetze.drop(columns='UserID')\n"
   ]
  },
  {
   "cell_type": "code",
   "execution_count": 15,
   "metadata": {},
   "outputs": [],
   "source": [
    "xmlsaetze = xmlsaetze[(xmlsaetze.Testposition == 'version') | (xmlsaetze.Testposition == 'pruefung') | (xmlsaetze.Testposition == 'training')]\n",
    "xmlsaetze = xmlsaetze[(xmlsaetze.Monat == 3) | (xmlsaetze.Monat == 4)]#|(xmlsaetze.Monat == 5) | (xmlsaetze.Monat == 6)"
   ]
  },
  {
   "cell_type": "code",
   "execution_count": 10,
   "metadata": {},
   "outputs": [],
   "source": [
    "# variable mehrfach falsch\n",
    "xmlsaetze['Loesungsnr']=xmlsaetze['Loesungsnr'].str.split()\n",
    "xmlsaetze['MehrfachFalsch'] = xmlsaetze['Loesungsnr'].str.len()\n",
    "xmlsaetze['MehrfachFalsch'] = xmlsaetze['MehrfachFalsch'].replace([np.nan],0)\n",
    "xmlsaetze['MehrfachFalsch'] = xmlsaetze['MehrfachFalsch'].astype('int')\n",
    "xmlsaetze['MehrfachFalsch'] = xmlsaetze['MehrfachFalsch'] - 1\n",
    "\n",
    "xmlsaetze.to_pickle('xmlsaetze_preprocessed.pkl')"
   ]
  },
  {
   "cell_type": "code",
   "execution_count": 3,
   "metadata": {},
   "outputs": [],
   "source": [
    "infile = open('xmlsaetze_preprocessed.pkl','rb')\n",
    "xmlsaetze = pickle.load(infile)\n",
    "infile.close()\n",
    "\n",
    "xmlsaetze['group'] = xmlsaetze.UebungsID % 10\n",
    "\n",
    "xmlsaetze1 = xmlsaetze[xmlsaetze.group == 1]\n",
    "xmlsaetze2 = xmlsaetze[xmlsaetze.group == 2]\n",
    "xmlsaetze3 = xmlsaetze[xmlsaetze.group == 3]\n",
    "xmlsaetze4 = xmlsaetze[xmlsaetze.group == 4]\n",
    "xmlsaetze5 = xmlsaetze[xmlsaetze.group == 5]\n",
    "xmlsaetze6 = xmlsaetze[xmlsaetze.group == 6]\n",
    "xmlsaetze7 = xmlsaetze[xmlsaetze.group == 7]\n",
    "xmlsaetze8 = xmlsaetze[xmlsaetze.group == 8]\n",
    "xmlsaetze9 = xmlsaetze[xmlsaetze.group == 9]\n",
    "alle = [xmlsaetze1, xmlsaetze2, xmlsaetze3, xmlsaetze4, xmlsaetze5, xmlsaetze6, xmlsaetze7, xmlsaetze8, xmlsaetze9]"
   ]
  },
  {
   "cell_type": "code",
   "execution_count": null,
   "metadata": {},
   "outputs": [],
   "source": [
    "# Ordernumber and Lücke finden\n",
    "cnt = 0\n",
    "\n",
    "for x in alle:\n",
    "\n",
    "    cnt = cnt +1\n",
    "    \n",
    "    num = str(cnt)\n",
    "    print(num)\n",
    "    sitzungen = x.UebungsID.unique()\n",
    "    ordernumbers =pd.DataFrame(columns=['OrderNumber', 'ID'])\n",
    "    for i in sitzungen:\n",
    "        subset = x.loc[x['UebungsID'] == i]\n",
    "        subset = subset.sort_values(by='Datum')\n",
    "        subset = subset.reset_index(drop=True)\n",
    "        subset.reset_index(inplace=True)\n",
    "        subset = subset.rename(columns = {'index':'OrderNumber'})\n",
    "        subset = subset[['OrderNumber','ID']]\n",
    "        ordernumbers = ordernumbers.append(subset)\n",
    "\n",
    "    x = pd.merge(x,ordernumbers,on='ID', how='left')\n",
    "    x['OrderNumber'] = x['OrderNumber'] + 1\n",
    "    x.to_pickle('xmlsaetze'+num+'_ordernumber.pkl')\n",
    "\n",
    "    x['Time'] = pd.DatetimeIndex(x['Datum']).strftime(\"%X\")\n",
    "\n",
    "    # Finde die Sessions, in denen eine Lücke von Monaten / Tagen oder mehr als 45 Minuten Uhrzeit ist\n",
    "\n",
    "    df_gr = x.groupby('UebungsID').agg({'Monat': ['min', 'max'], 'Tag': ['min', 'max'], 'Time': ['min', 'max']})\n",
    "    df_gr = df_gr.reset_index()\n",
    "\n",
    "    def f(row):\n",
    "        if row.Monat['min'] != row.Monat['max']:\n",
    "            val = 1\n",
    "        elif  row.Tag['min'] != row.Tag['max']:\n",
    "            val = 1\n",
    "        elif  row.Time['min'] != row.Time['max']:\n",
    "            if ((pd.to_datetime(row.Time['min']) + pd.to_timedelta(45, unit='m')) < pd.to_datetime(row.Time['max'])):\n",
    "                val = 1\n",
    "            else:\n",
    "                val = 0\n",
    "        else:\n",
    "            val = 0\n",
    "        return val\n",
    "\n",
    "    df_gr['luecke'] = df_gr.apply(f, axis=1)\n",
    "\n",
    "    df_gr.to_pickle('xmlsaetze'+num+'_luecke.pkl')"
   ]
  },
  {
   "cell_type": "markdown",
   "metadata": {},
   "source": [
    "Variable Session Nr hinzurüfen -> für jede der 10 Teile einzeln ausfuehren!"
   ]
  },
  {
   "cell_type": "code",
   "execution_count": 38,
   "metadata": {},
   "outputs": [],
   "source": [
    "infile = open('files/xmlsaetze1_luecke.pkl','rb')\n",
    "xmlsaetze1_luecke = pickle.load(infile)\n",
    "infile.close()\n",
    "xmlsaetze1_luecke.columns = xmlsaetze1_luecke.columns.droplevel(1)\n",
    "xmlsaetze1_luecke = xmlsaetze1_luecke[['UebungsID','luecke']]\n",
    "\n",
    "infile = open('files/xmlsaetze1_ordernumber.pkl','rb')\n",
    "xmlsaetze1_ordernumber = pickle.load(infile)\n",
    "infile.close()\n",
    "\n",
    "xmlsaetze1_merged = pd.merge(xmlsaetze1_ordernumber, xmlsaetze1_luecke, on='UebungsID')\n",
    "\n",
    "xmlsaetze1_luecke0 = xmlsaetze1_merged[xmlsaetze1_merged.luecke==0]\n",
    "xmlsaetze1_luecke1 = xmlsaetze1_merged[xmlsaetze1_merged.luecke==1]\n",
    "\n",
    "xmlsaetze1_luecke0['sessionNr'] = 1\n",
    "\n",
    "#Variable Sessionnr hinzufügen\n",
    "\n",
    "def f(aktuelltag, aktuellmonat, aktuelluhrzeit, vergleichtag, vergleichmonat, vergleichuhrzeit):\n",
    "    if aktuellmonat.values[0] != vergleichmonat.values[0]:\n",
    "        val = 1\n",
    "    elif  aktuelltag.values[0] != vergleichtag.values[0]:\n",
    "        val = 1\n",
    "    elif  aktuelluhrzeit.values[0] != vergleichuhrzeit.values[0]:\n",
    "        if (vergleichuhrzeit.values[0]+3) < aktuelluhrzeit.values[0]:\n",
    "            val = 1\n",
    "        else:\n",
    "            val= 0\n",
    "    else:\n",
    "        val = 0\n",
    "    return val\n",
    "\n",
    "errorlist = []\n",
    "\n",
    "xml_with_breaks = xmlsaetze1_luecke1\n",
    "xml_with_breaks = xml_with_breaks.astype({'UebungsID': str})\n",
    "xml_with_breaks['sessionNr'] = 0\n",
    "sitzungen = xml_with_breaks.UebungsID.unique()\n",
    "for x in sitzungen:\n",
    "    try:\n",
    "        anzahl = len(xml_with_breaks.loc[xml_with_breaks['UebungsID'] == x])\n",
    "\n",
    "        nr1 = xml_with_breaks.loc[(xml_with_breaks['UebungsID'] == x) & (xml_with_breaks.OrderNumber == 1)] \n",
    "        id1 = nr1.ID\n",
    "        xml_with_breaks.loc[(xml_with_breaks.ID.values == id1.values), 'sessionNr'] = 1\n",
    "\n",
    "        vergleichmonat = xml_with_breaks['Monat'].loc[(xml_with_breaks['UebungsID'] == x) & (xml_with_breaks.OrderNumber == 1)] \n",
    "        vergleichtag = xml_with_breaks['Tag'].loc[(xml_with_breaks['UebungsID'] == x) & (xml_with_breaks.OrderNumber == 1)]    \n",
    "        vergleichuhrzeit = xml_with_breaks['Uhrzeit'].loc[(xml_with_breaks['UebungsID'] == x) & (xml_with_breaks.OrderNumber == 1)] \n",
    "\n",
    "        session = 1\n",
    "\n",
    "        for y in range(anzahl-1):\n",
    "            a = y+2\n",
    "            nr = xml_with_breaks.loc[(xml_with_breaks['UebungsID'] == x) & (xml_with_breaks.OrderNumber == a)]\n",
    "            this_id = nr.ID\n",
    "\n",
    "            aktuelltag = nr['Tag']\n",
    "            aktuellmonat = nr['Monat']\n",
    "            aktuelluhrzeit = nr['Uhrzeit']\n",
    "\n",
    "            is_break = f(aktuelltag, aktuellmonat, aktuelluhrzeit, vergleichtag, vergleichmonat, vergleichuhrzeit)\n",
    "\n",
    "            if is_break == 1:\n",
    "                xml_with_breaks.loc[(xml_with_breaks.ID.values == this_id.values), 'sessionNr'] = session+1\n",
    "                session = session+1\n",
    "            else:\n",
    "                xml_with_breaks.loc[(xml_with_breaks.ID.values == this_id.values), 'sessionNr'] = session\n",
    "\n",
    "            vergleichmonat = aktuellmonat\n",
    "            vergleichtag = aktuelltag\n",
    "            vergleichuhrzeit = aktuelluhrzeit\n",
    "\n",
    "    except:\n",
    "        print(x)\n",
    "\n",
    "xml_with_breaks.to_pickle('xmlsaetze1_sessionnr1.pkl')\n",
    "xmlsaetze1_luecke0.to_pickle('xmlsatze1_sessionnr0.pkl')"
   ]
  },
  {
   "cell_type": "markdown",
   "metadata": {},
   "source": [
    "Fuer jeden der 10 Teil einzeln ausfuehren"
   ]
  },
  {
   "cell_type": "code",
   "execution_count": 21,
   "metadata": {},
   "outputs": [],
   "source": [
    "infile = open('xmlsaetze9_sessionnr1.pkl','rb')\n",
    "xmlsaetze1_sessionnr1 = pickle.load(infile)\n",
    "infile.close()\n",
    "\n",
    "infile = open('xmlsaetze9_sessionnr0.pkl','rb')\n",
    "xmlsaetze1_sessionnr0 = pickle.load(infile)\n",
    "infile.close()\n",
    "\n",
    "new_session_nr = xmlsaetze1_sessionnr1.append(xmlsaetze1_sessionnr0)\n",
    "\n",
    "# Add SessionNr to UebungsID -> macht neue UebungsID pro Session\n",
    "new_session_nr['sessionNr'] = new_session_nr['sessionNr'].astype(str)\n",
    "new_session_nr[\"UebungsID\"] = new_session_nr[\"UebungsID\"].map(str) + \"_\" + new_session_nr[\"sessionNr\"]\n",
    "\n",
    "# Berechne Ordnernummer neu ( Wenn Session getrennt, muss Session 2 wieder mit ordernr 1 anfangen)\n",
    "min_ordernr = new_session_nr.groupby('UebungsID')['OrderNumber'].min()\n",
    "new_order = pd.merge(new_session_nr, min_ordernr, on='UebungsID')\n",
    "new_order['OrderNumber_y'] = new_order['OrderNumber_y'] - 1\n",
    "new_order['OrderNumber'] = new_order['OrderNumber_x'] - new_order['OrderNumber_y']\n",
    "\n",
    "new_order = new_order.drop(columns=['OrderNumber_x', 'OrderNumber_y'])\n",
    "\n",
    "# Neue Spalte: wenn es sich um die zweite/ dritte/ vierte Session in der Aufgabe handelt -> vorher schonmal abgebrochen = 1\n",
    "def f(row):\n",
    "    if row['sessionNr'] != '1':\n",
    "        val = 1\n",
    "    else:\n",
    "        val = 0\n",
    "    return val\n",
    "\n",
    "new_order['vorher_abgebrochen'] = new_order.apply(f, axis=1)\n",
    "new_order.to_pickle('vacay_preprocessed9.pkl')\n"
   ]
  }
 ],
 "metadata": {
  "kernelspec": {
   "display_name": "Python 3.10.2 64-bit",
   "language": "python",
   "name": "python3"
  },
  "language_info": {
   "name": "python",
   "version": "3.10.2 (tags/v3.10.2:a58ebcc, Jan 17 2022, 14:12:15) [MSC v.1929 64 bit (AMD64)]"
  },
  "orig_nbformat": 2,
  "vscode": {
   "interpreter": {
    "hash": "369f2c481f4da34e4445cda3fffd2e751bd1c4d706f27375911949ba6bb62e1c"
   }
  }
 },
 "nbformat": 4,
 "nbformat_minor": 2
}
