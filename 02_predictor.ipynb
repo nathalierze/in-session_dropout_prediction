{
 "cells": [
  {
   "cell_type": "code",
   "execution_count": 86,
   "metadata": {},
   "outputs": [],
   "source": [
    "import pandas as pd\n",
    "import pickle\n",
    "import seaborn as sns\n",
    "import numpy as np"
   ]
  },
  {
   "cell_type": "markdown",
   "metadata": {},
   "source": [
    "Fuer alle 10 Teile ausfuehren"
   ]
  },
  {
   "cell_type": "code",
   "execution_count": 87,
   "metadata": {},
   "outputs": [],
   "source": [
    "# import\n",
    "\n",
    "infile = open('vacay_preprocessed9.pkl','rb')\n",
    "df = pickle.load(infile)\n",
    "infile.close()\n",
    "\n",
    "df['temp_ueb'] = df['UebungsID'].map(lambda x: str(x)[:-2])\n",
    "\n",
    "path = '../../../../../../Desktop/Orthografietrainer2020/pickle/'\n",
    "infile = open(path+'sitzungssummary.pkl','rb')\n",
    "sitzungen = pickle.load(infile)\n",
    "infile.close()\n",
    "sitzungen = sitzungen[['ID','beendet']]\n",
    "\n",
    "sitzungen.columns = ['temp_ueb', 'beendet']\n",
    "sitzungen['temp_ueb'] = sitzungen['temp_ueb'].astype(str)\n",
    "\n",
    "df_new = pd.merge(df, sitzungen, on='temp_ueb')\n",
    "df_new = df_new.drop(columns=['Loesungsnr'])\n",
    "df_new = df_new.drop_duplicates()\n"
   ]
  },
  {
   "cell_type": "code",
   "execution_count": 88,
   "metadata": {},
   "outputs": [
    {
     "name": "stderr",
     "output_type": "stream",
     "text": [
      "<ipython-input-88-97bc509b50d4>:3: SettingWithCopyWarning: \n",
      "A value is trying to be set on a copy of a slice from a DataFrame.\n",
      "Try using .loc[row_indexer,col_indexer] = value instead\n",
      "\n",
      "See the caveats in the documentation: https://pandas.pydata.org/pandas-docs/stable/user_guide/indexing.html#returning-a-view-versus-a-copy\n",
      "  luecke_0['testpos_prue'] = np.where(luecke_0['Testposition']== 'pruefung', 1, 0)\n",
      "<ipython-input-88-97bc509b50d4>:4: SettingWithCopyWarning: \n",
      "A value is trying to be set on a copy of a slice from a DataFrame.\n",
      "Try using .loc[row_indexer,col_indexer] = value instead\n",
      "\n",
      "See the caveats in the documentation: https://pandas.pydata.org/pandas-docs/stable/user_guide/indexing.html#returning-a-view-versus-a-copy\n",
      "  luecke_0['testpos_train'] = np.where(luecke_0['Testposition']== 'training', 1, 0)\n",
      "<ipython-input-88-97bc509b50d4>:5: SettingWithCopyWarning: \n",
      "A value is trying to be set on a copy of a slice from a DataFrame.\n",
      "Try using .loc[row_indexer,col_indexer] = value instead\n",
      "\n",
      "See the caveats in the documentation: https://pandas.pydata.org/pandas-docs/stable/user_guide/indexing.html#returning-a-view-versus-a-copy\n",
      "  luecke_0['testpos_vers'] = np.where(luecke_0['Testposition']== 'version', 1, 0)\n"
     ]
    }
   ],
   "source": [
    "luecke_0 = df_new[df_new.luecke == 0]\n",
    "\n",
    "luecke_0['testpos_prue'] = np.where(luecke_0['Testposition']== 'pruefung', 1, 0)\n",
    "luecke_0['testpos_train'] = np.where(luecke_0['Testposition']== 'training', 1, 0)\n",
    "luecke_0['testpos_vers'] = np.where(luecke_0['Testposition']== 'version', 1, 0)\n",
    "luecke_0_grouped = luecke_0.groupby('UebungsID').agg({'Erfolg': ['count', 'sum'], 'MehrfachFalsch': ['sum'], 'luecke': ['first'], 'sessionNr':['first'], 'vorher_abgebrochen':['first'],'temp_ueb':['first'], 'beendet' : ['first'], 'testpos_prue':['sum'], 'testpos_train':['sum'], 'testpos_vers':['sum']})\n",
    "\n",
    "def f(row):\n",
    "    if row.testpos_train['sum'] < 10:\n",
    "        val = 0\n",
    "    elif  row.testpos_train['sum'] >= 10:\n",
    "        if (row.testpos_train['sum'] == 10) and (row.Erfolg['sum'] == 10):\n",
    "            val = 1\n",
    "        elif ((row.Erfolg['count']-row.testpos_prue['sum']) == row.Erfolg['sum']) and ((row.testpos_vers['sum']/2+10) ==  row.testpos_train['sum']): #standardweg für Fehler im Training\n",
    "            val = 1\n",
    "        elif ((row.Erfolg['count']-row.Erfolg['sum']) == row.testpos_prue['sum']):\n",
    "            val = 1\n",
    "        elif ((row.Erfolg['count']-row.Erfolg['sum']+1) == row.testpos_prue['sum']):\n",
    "            val = 1\n",
    "        elif (row.testpos_vers['sum']>0) and (row.testpos_prue['sum']==0):\n",
    "            val = 0\n",
    "        else:\n",
    "            val = 3\n",
    "    else:\n",
    "        val = 3\n",
    "    return val\n",
    "\n",
    "luecke_0_grouped['y'] = luecke_0_grouped.apply(f, axis=1)"
   ]
  },
  {
   "cell_type": "code",
   "execution_count": 89,
   "metadata": {},
   "outputs": [
    {
     "name": "stderr",
     "output_type": "stream",
     "text": [
      "<ipython-input-89-d9e585b25a95>:3: SettingWithCopyWarning: \n",
      "A value is trying to be set on a copy of a slice from a DataFrame.\n",
      "Try using .loc[row_indexer,col_indexer] = value instead\n",
      "\n",
      "See the caveats in the documentation: https://pandas.pydata.org/pandas-docs/stable/user_guide/indexing.html#returning-a-view-versus-a-copy\n",
      "  luecke_1['testpos_prue'] = np.where(luecke_1['Testposition']== 'pruefung', 1, 0)\n",
      "<ipython-input-89-d9e585b25a95>:4: SettingWithCopyWarning: \n",
      "A value is trying to be set on a copy of a slice from a DataFrame.\n",
      "Try using .loc[row_indexer,col_indexer] = value instead\n",
      "\n",
      "See the caveats in the documentation: https://pandas.pydata.org/pandas-docs/stable/user_guide/indexing.html#returning-a-view-versus-a-copy\n",
      "  luecke_1['testpos_train'] = np.where(luecke_1['Testposition']== 'training', 1, 0)\n",
      "<ipython-input-89-d9e585b25a95>:5: SettingWithCopyWarning: \n",
      "A value is trying to be set on a copy of a slice from a DataFrame.\n",
      "Try using .loc[row_indexer,col_indexer] = value instead\n",
      "\n",
      "See the caveats in the documentation: https://pandas.pydata.org/pandas-docs/stable/user_guide/indexing.html#returning-a-view-versus-a-copy\n",
      "  luecke_1['testpos_vers'] = np.where(luecke_1['Testposition']== 'version', 1, 0)\n"
     ]
    }
   ],
   "source": [
    "luecke_1 = df_new[df_new.luecke == 1]\n",
    "\n",
    "luecke_1['testpos_prue'] = np.where(luecke_1['Testposition']== 'pruefung', 1, 0)\n",
    "luecke_1['testpos_train'] = np.where(luecke_1['Testposition']== 'training', 1, 0)\n",
    "luecke_1['testpos_vers'] = np.where(luecke_1['Testposition']== 'version', 1, 0)\n",
    "\n",
    "max_session = luecke_1.groupby('temp_ueb')['sessionNr'].max()\n",
    "max_session=max_session.reset_index()\n",
    "max_session.columns = ['temp_ueb', 'maxSession']\n",
    "\n",
    "luecke_1 = pd.merge(luecke_1, max_session, on='temp_ueb')\n",
    "luecke_1_grouped = luecke_1.groupby('UebungsID').agg({'Erfolg': ['count', 'sum'], 'MehrfachFalsch': ['sum'], 'luecke': ['first'], 'sessionNr':['first'], 'maxSession':['first'], 'vorher_abgebrochen':['first'],'temp_ueb':['first'], 'beendet' : ['first'], 'testpos_prue':['sum'], 'testpos_train':['sum'], 'testpos_vers':['sum']})\n",
    "luecke_1_grouped_full = luecke_1.groupby('temp_ueb').agg({'Erfolg': ['count', 'sum'], 'MehrfachFalsch': ['sum'], 'luecke': ['first'], 'sessionNr':['min'], 'maxSession':['max'], 'vorher_abgebrochen':['max'],  'testpos_prue':['sum'], 'testpos_train':['sum'], 'testpos_vers':['sum']})\n",
    "\n",
    "def f(row):\n",
    "    if row.testpos_train['sum'] < 10:\n",
    "        val = 0\n",
    "    elif  row.testpos_train['sum'] >= 10:\n",
    "        if (row.testpos_train['sum'] == 10) and (row.Erfolg['sum'] == 10):\n",
    "            val = 1\n",
    "        elif ((row.Erfolg['count']-row.testpos_prue['sum']) == row.Erfolg['sum']) and ((row.testpos_vers['sum']/2+10) ==  row.testpos_train['sum']): #standardweg für Fehler im Training\n",
    "            val = 1\n",
    "        elif ((row.Erfolg['count']-row.Erfolg['sum']) == row.testpos_prue['sum']):\n",
    "            val = 1\n",
    "        elif ((row.Erfolg['count']-row.Erfolg['sum']+1) == row.testpos_prue['sum']):\n",
    "            val = 1\n",
    "        elif (row.testpos_vers['sum']>0) and (row.testpos_prue['sum']==0):\n",
    "            val = 0\n",
    "        else:\n",
    "            val = 3\n",
    "    else:\n",
    "        val = 3\n",
    "    return val\n",
    "\n",
    "luecke_1_grouped_full['y_all'] = luecke_1_grouped_full.apply(f, axis=1)"
   ]
  },
  {
   "cell_type": "code",
   "execution_count": 90,
   "metadata": {},
   "outputs": [],
   "source": [
    "luecke_1_grouped_full.columns = luecke_1_grouped_full.columns.droplevel(1)\n",
    "luecke_1_grouped_full = luecke_1_grouped_full.reset_index()\n",
    "luecke_1_grouped_full = luecke_1_grouped_full[['temp_ueb','y_all']]\n",
    "\n",
    "luecke_1_grouped.columns = luecke_1_grouped.columns.droplevel(1)\n",
    "luecke_1_grouped.columns.values[1] = \"Erfolg_count\"\n",
    "luecke_1_grouped = luecke_1_grouped.reset_index()\n",
    "\n",
    "luecke_1_grouped_merged = pd.merge(luecke_1_grouped, luecke_1_grouped_full, on='temp_ueb')\n",
    "\n",
    "def f(row):\n",
    "    if row.maxSession == '1' and row.y_all == 1:\n",
    "        val = 1\n",
    "    elif row.maxSession == '1' and row.y_all == 0:\n",
    "        val = 0\n",
    "    elif row.maxSession != '1':\n",
    "        if (row.y_all == 1) and (row.maxSession == row.sessionNr) :\n",
    "            val=1\n",
    "        else:\n",
    "            val=0\n",
    "    else:\n",
    "        val = 3\n",
    "    return val\n",
    "\n",
    "luecke_1_grouped_merged['y'] = luecke_1_grouped_merged.apply(f, axis=1)"
   ]
  },
  {
   "cell_type": "code",
   "execution_count": 91,
   "metadata": {},
   "outputs": [],
   "source": [
    "luecke_0_grouped.columns = luecke_0_grouped.columns.droplevel(1)\n",
    "luecke_0_grouped = luecke_0_grouped.reset_index()\n",
    "luecke_0_grouped = luecke_0_grouped[['UebungsID','y']]\n",
    "luecke_1_grouped_merged = luecke_1_grouped_merged[['UebungsID','y']]\n",
    "predictors = luecke_0_grouped.append(luecke_1_grouped_merged)"
   ]
  },
  {
   "cell_type": "code",
   "execution_count": 92,
   "metadata": {},
   "outputs": [],
   "source": [
    "predictors.to_pickle('predictors_9')"
   ]
  }
 ],
 "metadata": {
  "kernelspec": {
   "display_name": "Python 3.10.2 64-bit",
   "language": "python",
   "name": "python3"
  },
  "language_info": {
   "codemirror_mode": {
    "name": "ipython",
    "version": 3
   },
   "file_extension": ".py",
   "mimetype": "text/x-python",
   "name": "python",
   "nbconvert_exporter": "python",
   "pygments_lexer": "ipython3",
   "version": "3.10.2"
  },
  "orig_nbformat": 4,
  "vscode": {
   "interpreter": {
    "hash": "369f2c481f4da34e4445cda3fffd2e751bd1c4d706f27375911949ba6bb62e1c"
   }
  }
 },
 "nbformat": 4,
 "nbformat_minor": 2
}
