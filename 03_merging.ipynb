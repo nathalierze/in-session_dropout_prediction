{
 "cells": [
  {
   "cell_type": "code",
   "execution_count": 1,
   "metadata": {},
   "outputs": [],
   "source": [
    "import pandas as pd\n",
    "import pickle\n",
    "import seaborn as sns\n",
    "import numpy as np\n",
    "path = '##'"
   ]
  },
  {
   "attachments": {},
   "cell_type": "markdown",
   "metadata": {},
   "source": [
    "Merge original data with newly determined data about dropout"
   ]
  },
  {
   "cell_type": "code",
   "execution_count": 75,
   "metadata": {},
   "outputs": [],
   "source": [
    "\"\"\"\n",
    "load and clean session df\n",
    "\"\"\"\n",
    "infile = open(path+'sitzungssummary.pkl','rb')\n",
    "session = pickle.load(infile)\n",
    "infile.close()\n",
    "session = session [['ID','UserID','UserAttribut','Art','HA','Fehler']]\n",
    "session = session.dropna()\n",
    "session.rename(columns = {'ID':'UebungsID'}, inplace = True)\n",
    "\n",
    "## Userattribut: 1=student; 0= guest/teacher\n",
    "session['UserAttribut'] = session['UserAttribut'].replace(['Schüler'],1)\n",
    "session['UserAttribut'] = session['UserAttribut'].replace(['Gast','Lehrer'],0)\n",
    "session[['UserAttribut']] = session[['UserAttribut']].astype('int16')\n",
    "session['HA'] = session['HA'].replace(['frHA'],'Self')\n",
    "session['UebungsID'] = session['UebungsID'].astype(str)\n",
    "session.columns = ['temp_ueb', 'UserID', 'UserAttribut','Art','HA', 'Fehler']\n"
   ]
  },
  {
   "cell_type": "code",
   "execution_count": 76,
   "metadata": {},
   "outputs": [],
   "source": [
    "\"\"\"\n",
    "load and clean students df\n",
    "\"\"\"\n",
    "infile = open(path+'schueler2020only.pkl','rb')\n",
    "students = pickle.load(infile)\n",
    "infile.close()\n",
    "students = students[['ID','Geschlecht','Klassenstufe','Anmeldeklassenstufe','Aufgaben','Altaufgaben','done']]\n",
    "\n",
    "students.rename(columns = {'ID':'UserID'}, inplace = True)\n",
    "students['done'] = students['done'].astype('int16')\n",
    "##clean gender\n",
    "students['Geschlecht'] = students['Geschlecht'].replace(['m.'],'m')\n",
    "students['Geschlecht'] = students['Geschlecht'].replace(['w.','we'],'w')\n",
    "students['Geschlecht'] = students['Geschlecht'].replace(['d','wm'],np.nan)\n",
    "##class level: only 5-12\n",
    "options = ['5', '6','7','8','9','10','11','12'] \n",
    "students = students[students['Klassenstufe'].isin(options)] \n",
    "students['Klassenstufe'] = students['Klassenstufe'].astype('int')\n",
    "##years registered: create new column years registered from class level and date of registration\n",
    "students = students[students['Anmeldeklassenstufe'].isin(options)] \n",
    "students['Anmeldeklassenstufe'] = students['Anmeldeklassenstufe'].astype('int')\n",
    "students['Jahredabei'] = students['Klassenstufe'] - students['Anmeldeklassenstufe']\n",
    "##Count of pending tasks: creat new column count of pending tasks\n",
    "students['Aufgaben']=students['Aufgaben'].str.split()\n",
    "students['AnzahlAufgaben'] = students['Aufgaben'].str.len()\n",
    "students['AnzahlAufgaben'] = students['AnzahlAufgaben'].replace([np.nan],0)\n",
    "students['AnzahlAufgaben'] = students['AnzahlAufgaben'].astype('int')\n",
    "##Drop columns \n",
    "students= students.drop(columns=['Anmeldeklassenstufe','Aufgaben','Altaufgaben'])"
   ]
  },
  {
   "cell_type": "code",
   "execution_count": 77,
   "metadata": {},
   "outputs": [],
   "source": [
    "\"\"\"\n",
    "load sentence data and predictors\n",
    "\"\"\"\n",
    "infile = open('vacay_preprocessed1.pkl','rb')\n",
    "xmlsaetze = pickle.load(infile)\n",
    "infile.close()\n",
    "xmlsaetze = xmlsaetze.drop(columns=['group', 'Loesungsnr'])\n",
    "\n",
    "infile = open('files/predictors_1','rb')\n",
    "predictors = pickle.load(infile)\n",
    "infile.close()\n",
    "predictors['temp_ueb'] = predictors['UebungsID'].map(lambda x: str(x)[:-2])\n",
    "\n",
    "## merge df\n",
    "df = pd.merge(xmlsaetze, predictors, on='UebungsID')\n",
    "df = pd.merge(df, session, on='temp_ueb')\n",
    "df = pd.merge(df, students, on='UserID')"
   ]
  },
  {
   "cell_type": "code",
   "execution_count": 80,
   "metadata": {},
   "outputs": [],
   "source": [
    "\"\"\"\n",
    "add new variable steps\n",
    "steps show how many sentences must be submitted before the assignments earliest can be finished\n",
    "\"\"\"\n",
    "def f(row):\n",
    "    if row.OrderNumber <= 10:\n",
    "        val = row.OrderNumber -10\n",
    "    elif row.OrderNumber <=14:\n",
    "        val = row.OrderNumber -14\n",
    "    elif row.OrderNumber <=18:\n",
    "        val = row.OrderNumber -18\n",
    "    elif row.OrderNumber <=22:\n",
    "        val = row.OrderNumber -22\n",
    "    elif row.OrderNumber <=26:\n",
    "        val = row.OrderNumber -26\n",
    "    elif row.OrderNumber <=30:\n",
    "        val = row.OrderNumber -30\n",
    "    elif row.OrderNumber <=34:\n",
    "        val = row.OrderNumber -34\n",
    "    else:\n",
    "        val = 0\n",
    "    return val\n",
    "\n",
    "df['steps'] = df.apply(f, axis=1)"
   ]
  },
  {
   "cell_type": "code",
   "execution_count": 81,
   "metadata": {},
   "outputs": [],
   "source": [
    "\"\"\"\n",
    "one-hot encoding\n",
    "\"\"\"\n",
    "#session\n",
    "dummy_Art = pd.get_dummies(df['Art'], prefix='Art_')\n",
    "df = pd.merge(left=df, right=dummy_Art,left_index=True,right_index=True)\n",
    "#HA\n",
    "dummy_HA = pd.get_dummies(df['HA'], prefix='HA_')\n",
    "df = pd.merge(left=df, right=dummy_HA,left_index=True,right_index=True)\n",
    "#Gender\n",
    "dummy_Geschlecht = pd.get_dummies(df['Geschlecht'], prefix='Sex_')\n",
    "df = pd.merge(left=df, right=dummy_Geschlecht,left_index=True,right_index=True)\n",
    "#Testposition\n",
    "dummy_Testposition = pd.get_dummies(df['Testposition'], prefix='Testposition_')\n",
    "df = pd.merge(left=df, right=dummy_Testposition,left_index=True,right_index=True)\n",
    "\n",
    "#Drop columns\n",
    "df = df.drop(columns=['Art','HA'])\n",
    "df= df.drop(columns=['Geschlecht','Testposition'])"
   ]
  },
  {
   "cell_type": "code",
   "execution_count": 82,
   "metadata": {},
   "outputs": [],
   "source": [
    "\"\"\"\n",
    "save dataset\n",
    "\"\"\"\n",
    "df.to_pickle('ready1.pkl')"
   ]
  }
 ],
 "metadata": {
  "kernelspec": {
   "display_name": "Python 3.10.2 64-bit",
   "language": "python",
   "name": "python3"
  },
  "language_info": {
   "codemirror_mode": {
    "name": "ipython",
    "version": 3
   },
   "file_extension": ".py",
   "mimetype": "text/x-python",
   "name": "python",
   "nbconvert_exporter": "python",
   "pygments_lexer": "ipython3",
   "version": "3.10.2 (tags/v3.10.2:a58ebcc, Jan 17 2022, 14:12:15) [MSC v.1929 64 bit (AMD64)]"
  },
  "orig_nbformat": 4,
  "vscode": {
   "interpreter": {
    "hash": "369f2c481f4da34e4445cda3fffd2e751bd1c4d706f27375911949ba6bb62e1c"
   }
  }
 },
 "nbformat": 4,
 "nbformat_minor": 2
}
