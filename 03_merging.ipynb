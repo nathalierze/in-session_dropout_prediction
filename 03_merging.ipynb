{
 "cells": [
  {
   "cell_type": "code",
   "execution_count": 1,
   "metadata": {},
   "outputs": [],
   "source": [
    "import pandas as pd\n",
    "import pickle\n",
    "import seaborn as sns\n",
    "import numpy as np\n",
    "path = '../../../../../../Desktop/Orthografietrainer2020/pickle/'"
   ]
  },
  {
   "cell_type": "code",
   "execution_count": 75,
   "metadata": {},
   "outputs": [],
   "source": [
    "infile = open(path+'sitzungssummary.pkl','rb')\n",
    "sitzungen = pickle.load(infile)\n",
    "infile.close()\n",
    "sitzungen = sitzungen [['ID','UserID','UserAttribut','Art','HA','Fehler']]\n",
    "\n",
    "sitzungen = sitzungen.dropna()\n",
    "sitzungen.rename(columns = {'ID':'UebungsID'}, inplace = True)\n",
    "# Userattribut: 1=Schüler; 0= Gast/ Lehrer\n",
    "sitzungen['UserAttribut'] = sitzungen['UserAttribut'].replace(['Schüler'],1)\n",
    "sitzungen['UserAttribut'] = sitzungen['UserAttribut'].replace(['Gast','Lehrer'],0)\n",
    "sitzungen[['UserAttribut']] = sitzungen[['UserAttribut']].astype('int16')\n",
    "#HA: bereinigung\n",
    "sitzungen['HA'] = sitzungen['HA'].replace(['frHA'],'Self')\n",
    "\n",
    "sitzungen['UebungsID'] = sitzungen['UebungsID'].astype(str)\n",
    "sitzungen.columns = ['temp_ueb', 'UserID', 'UserAttribut','Art','HA', 'Fehler']\n"
   ]
  },
  {
   "cell_type": "code",
   "execution_count": 76,
   "metadata": {},
   "outputs": [],
   "source": [
    "infile = open(path+'schueler2020only.pkl','rb')\n",
    "schueler = pickle.load(infile)\n",
    "infile.close()\n",
    "schueler = schueler[['ID','Geschlecht','Klassenstufe','Anmeldeklassenstufe','Aufgaben','Altaufgaben','done']]\n",
    "\n",
    "schueler.rename(columns = {'ID':'UserID'}, inplace = True)\n",
    "schueler['done'] = schueler['done'].astype('int16')\n",
    "#Geschlecht: bereinigung\n",
    "schueler['Geschlecht'] = schueler['Geschlecht'].replace(['m.','armin.zekan@hakamste'],'m')\n",
    "schueler['Geschlecht'] = schueler['Geschlecht'].replace(['w.','we'],'w')\n",
    "schueler['Geschlecht'] = schueler['Geschlecht'].replace(['d','wm'],np.nan)\n",
    "#Klassenstufe: nutze nur Klassenstufe 5-12\n",
    "options = ['5', '6','7','8','9','10','11','12'] \n",
    "schueler = schueler[schueler['Klassenstufe'].isin(options)] \n",
    "schueler['Klassenstufe'] = schueler['Klassenstufe'].astype('int')\n",
    "#Jahredabei: erstelle aus Klassenstufe - Anmeldeklassenstufe die Spalte Jahredabei\n",
    "schueler = schueler[schueler['Anmeldeklassenstufe'].isin(options)] \n",
    "schueler['Anmeldeklassenstufe'] = schueler['Anmeldeklassenstufe'].astype('int')\n",
    "schueler['Jahredabei'] = schueler['Klassenstufe'] - schueler['Anmeldeklassenstufe']\n",
    "#Anzahlaufgaben: erstelle Spalte, die angibt, wie viele Aufgaben dem User aktuell zugeordnet sind\n",
    "schueler['Aufgaben']=schueler['Aufgaben'].str.split()\n",
    "schueler['AnzahlAufgaben'] = schueler['Aufgaben'].str.len()\n",
    "schueler['AnzahlAufgaben'] = schueler['AnzahlAufgaben'].replace([np.nan],0)\n",
    "schueler['AnzahlAufgaben'] = schueler['AnzahlAufgaben'].astype('int')\n",
    "# Lösche \n",
    "schueler= schueler.drop(columns=['Anmeldeklassenstufe','Aufgaben','Altaufgaben'])"
   ]
  },
  {
   "cell_type": "code",
   "execution_count": 77,
   "metadata": {},
   "outputs": [],
   "source": [
    "infile = open('vacay_preprocessed9.pkl','rb')\n",
    "xmlsaetze = pickle.load(infile)\n",
    "infile.close()\n",
    "\n",
    "xmlsaetze = xmlsaetze.drop(columns=['group', 'Loesungsnr'])"
   ]
  },
  {
   "cell_type": "code",
   "execution_count": 3,
   "metadata": {},
   "outputs": [],
   "source": [
    "infile = open('files/predictors_9','rb')\n",
    "predictors = pickle.load(infile)\n",
    "infile.close()\n",
    "\n",
    "predictors['temp_ueb'] = predictors['UebungsID'].map(lambda x: str(x)[:-2])\n"
   ]
  },
  {
   "cell_type": "code",
   "execution_count": 79,
   "metadata": {},
   "outputs": [],
   "source": [
    "df = pd.merge(xmlsaetze, predictors, on='UebungsID')\n",
    "df = pd.merge(df, sitzungen, on='temp_ueb')\n",
    "df = pd.merge(df, schueler, on='UserID')"
   ]
  },
  {
   "cell_type": "code",
   "execution_count": 80,
   "metadata": {},
   "outputs": [],
   "source": [
    "def f(row):\n",
    "    if row.OrderNumber <= 10:\n",
    "        val = row.OrderNumber -10\n",
    "    elif row.OrderNumber <=14:\n",
    "        val = row.OrderNumber -14\n",
    "    elif row.OrderNumber <=18:\n",
    "        val = row.OrderNumber -18\n",
    "    elif row.OrderNumber <=22:\n",
    "        val = row.OrderNumber -22\n",
    "    elif row.OrderNumber <=26:\n",
    "        val = row.OrderNumber -26\n",
    "    elif row.OrderNumber <=30:\n",
    "        val = row.OrderNumber -30\n",
    "    elif row.OrderNumber <=34:\n",
    "        val = row.OrderNumber -34\n",
    "    else:\n",
    "        val = 0\n",
    "    return val\n",
    "\n",
    "df['steps'] = df.apply(f, axis=1)"
   ]
  },
  {
   "cell_type": "code",
   "execution_count": 81,
   "metadata": {},
   "outputs": [],
   "source": [
    "#Sitzungen\n",
    "dummy_Art = pd.get_dummies(df['Art'], prefix='Art_')\n",
    "df = pd.merge(left=df, right=dummy_Art,left_index=True,right_index=True)\n",
    "#HA\n",
    "dummy_HA = pd.get_dummies(df['HA'], prefix='HA_')\n",
    "df = pd.merge(left=df, right=dummy_HA,left_index=True,right_index=True)\n",
    "#Geschlecht\n",
    "dummy_Geschlecht = pd.get_dummies(df['Geschlecht'], prefix='Sex_')\n",
    "df = pd.merge(left=df, right=dummy_Geschlecht,left_index=True,right_index=True)\n",
    "#Testposition\n",
    "dummy_Testposition = pd.get_dummies(df['Testposition'], prefix='Testposition_')\n",
    "df = pd.merge(left=df, right=dummy_Testposition,left_index=True,right_index=True)\n",
    "\n",
    "#Lösche unnötige Spalten\n",
    "df = df.drop(columns=['Art','HA'])\n",
    "df= df.drop(columns=['Geschlecht','Testposition'])"
   ]
  },
  {
   "cell_type": "code",
   "execution_count": 82,
   "metadata": {},
   "outputs": [],
   "source": [
    "df.to_pickle('ready9.pkl')"
   ]
  }
 ],
 "metadata": {
  "kernelspec": {
   "display_name": "Python 3.10.2 64-bit",
   "language": "python",
   "name": "python3"
  },
  "language_info": {
   "codemirror_mode": {
    "name": "ipython",
    "version": 3
   },
   "file_extension": ".py",
   "mimetype": "text/x-python",
   "name": "python",
   "nbconvert_exporter": "python",
   "pygments_lexer": "ipython3",
   "version": "3.10.2"
  },
  "orig_nbformat": 4,
  "vscode": {
   "interpreter": {
    "hash": "369f2c481f4da34e4445cda3fffd2e751bd1c4d706f27375911949ba6bb62e1c"
   }
  }
 },
 "nbformat": 4,
 "nbformat_minor": 2
}
