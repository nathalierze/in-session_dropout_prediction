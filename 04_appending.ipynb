{
 "cells": [
  {
   "cell_type": "code",
   "execution_count": 1,
   "metadata": {},
   "outputs": [],
   "source": [
    "import pandas as pd\n",
    "import pickle\n",
    "import seaborn as sns\n",
    "import numpy as np"
   ]
  },
  {
   "attachments": {},
   "cell_type": "markdown",
   "metadata": {},
   "source": [
    "Append all dataframes that were splitted in the beginning back together"
   ]
  },
  {
   "cell_type": "code",
   "execution_count": 2,
   "metadata": {},
   "outputs": [],
   "source": [
    "infile = open('ready1.pkl','rb')\n",
    "df1 = pickle.load(infile)\n",
    "infile.close()\n",
    "infile = open('ready2.pkl','rb')\n",
    "df2 = pickle.load(infile)\n",
    "infile.close()\n",
    "infile = open('ready3.pkl','rb')\n",
    "df3 = pickle.load(infile)\n",
    "infile.close()\n",
    "infile = open('ready4.pkl','rb')\n",
    "df4 = pickle.load(infile)\n",
    "infile.close()\n",
    "infile = open('ready5.pkl','rb')\n",
    "df5 = pickle.load(infile)\n",
    "infile.close()\n",
    "infile = open('ready6.pkl','rb')\n",
    "df6 = pickle.load(infile)\n",
    "infile.close()\n",
    "infile = open('ready7.pkl','rb')\n",
    "df7 = pickle.load(infile)\n",
    "infile.close()\n",
    "infile = open('ready8.pkl','rb')\n",
    "df8 = pickle.load(infile)\n",
    "infile.close()\n",
    "infile = open('ready9.pkl','rb')\n",
    "df9 = pickle.load(infile)\n",
    "infile.close()\n",
    "\n",
    "df = df1.append(df2)\n",
    "df = df.append(df3)\n",
    "df = df.append(df4)\n",
    "df = df.append(df5)\n",
    "df = df.append(df6)\n",
    "df = df.append(df7)\n",
    "df = df.append(df8)\n",
    "df = df.append(df9)\n"
   ]
  },
  {
   "cell_type": "code",
   "execution_count": 3,
   "metadata": {},
   "outputs": [],
   "source": [
    "\"\"\"\n",
    "drop all efforts with unclear y\n",
    "\n",
    "\"\"\"\n",
    "df_1 = df[df.y == 1]\n",
    "df_0 = df[df.y == 0]\n",
    "df_new = df_1.append(df_0)\n",
    "df_new.to_pickle('appended.pkl')"
   ]
  }
 ],
 "metadata": {
  "kernelspec": {
   "display_name": "Python 3.10.2 64-bit",
   "language": "python",
   "name": "python3"
  },
  "language_info": {
   "codemirror_mode": {
    "name": "ipython",
    "version": 3
   },
   "file_extension": ".py",
   "mimetype": "text/x-python",
   "name": "python",
   "nbconvert_exporter": "python",
   "pygments_lexer": "ipython3",
   "version": "3.10.2"
  },
  "orig_nbformat": 4,
  "vscode": {
   "interpreter": {
    "hash": "369f2c481f4da34e4445cda3fffd2e751bd1c4d706f27375911949ba6bb62e1c"
   }
  }
 },
 "nbformat": 4,
 "nbformat_minor": 2
}
