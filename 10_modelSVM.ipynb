{
 "cells": [
  {
   "cell_type": "code",
   "execution_count": 1,
   "metadata": {},
   "outputs": [],
   "source": [
    "import pandas as pd\n",
    "import pickle\n",
    "import seaborn as sns\n",
    "import numpy as np\n",
    "from sklearn.tree import DecisionTreeClassifier\n",
    "from sklearn.model_selection import train_test_split \n",
    "from sklearn import metrics \n",
    "from sklearn.neighbors import KNeighborsClassifier\n",
    "from sklearn import svm\n",
    "from sklearn import tree\n",
    "from matplotlib import pyplot as plt\n",
    "from sklearn.model_selection import cross_val_score\n",
    "from sklearn.model_selection import KFold\n",
    "from sklearn.linear_model import LinearRegression\n",
    "from numpy import mean\n",
    "from numpy import absolute\n",
    "from numpy import sqrt\n",
    "from sklearn.preprocessing import StandardScaler\n",
    "from sklearn.model_selection import train_test_split\n",
    "from sklearn.linear_model import LogisticRegression\n",
    "from sklearn.svm import SVC\n",
    "from sklearn.metrics import log_loss, roc_auc_score, recall_score, precision_score, average_precision_score, f1_score, classification_report, accuracy_score, plot_roc_curve, plot_precision_recall_curve, plot_confusion_matrix"
   ]
  },
  {
   "cell_type": "code",
   "execution_count": 2,
   "metadata": {},
   "outputs": [],
   "source": [
    "def svm(i,y_test,x_test):\n",
    "    clf = SVC(kernel='linear',gamma=1, probability=True)\n",
    "\n",
    "    #clf = svm.SVC(kernel='linear') # Linear Kernel\n",
    "    clf.fit(X_train, y_train)\n",
    "    y_pred = clf.predict(X_test)\n",
    "\n",
    "    scores_a = cross_val_score(clf, X, y, scoring='accuracy', cv=cv, n_jobs=-1)\n",
    "    a = mean(absolute(scores_a))\n",
    "\n",
    "    scores_p = cross_val_score(clf, X, y, scoring='precision', cv=cv, n_jobs=-1)\n",
    "    p = mean(absolute(scores_p))\n",
    "\n",
    "    scores_r = cross_val_score(clf, X, y, scoring='recall', cv=cv, n_jobs=-1)\n",
    "    r = mean(absolute(scores_r))\n",
    "\n",
    "    scores_f1 = cross_val_score(clf, X, y, scoring='f1', cv=cv, n_jobs=-1)\n",
    "    f1 = mean(absolute(scores_f1))\n",
    "\n",
    "    y_pred = clf.predict_proba(x_test)[:, 1]\n",
    "    auc = metrics.roc_auc_score(y_test, y_pred)\n",
    "    \n",
    "    probs = clf.predict_proba(x_test)\n",
    "\n",
    "    return a,p,r,f1,auc,probs\n",
    "\n"
   ]
  },
  {
   "cell_type": "code",
   "execution_count": 3,
   "metadata": {},
   "outputs": [
    {
     "name": "stdout",
     "output_type": "stream",
     "text": [
      "5\n"
     ]
    }
   ],
   "source": [
    "accuracySVM= pd.DataFrame(columns=['Sentence', 'Accuracy', 'Precision', 'Recall', 'F1', 'AUC'])\n",
    "\n",
    "n = [5]#,15,25,35,45,55]#[2,3,4,5,6,7,8,9,10,11,12,13,14,15,16,17,18,19,20,21,22,23,24,25,26,27,28,29,30,31,32,33,34,35,36,37,38,39,40,41,42,43,44,45,46,47,48,49,50,51,52,53,54,55,56,57,58,59,60]\n",
    "feature_cols = ['Erstloesung','Schussel','Erfolg', 'Schwierigkeit', 'ist_Schulzeit', 'MehrfachFalsch', 'vorher_abgebrochen','Fehler', 'Klassenstufe', 'Jahredabei', 'AnzahlAufgaben', 'Sex__m', 'Sex__w', 'Testposition__pruefung', 'Testposition__training','Testposition__version', 'Art__GK', 'Art__GR', 'Art__GZ', 'Art__K', 'Art__LB','UserAttribut', 'OrderNumber', 'steps']\n",
    "#\n",
    "for i in n:\n",
    "    print(i)\n",
    "    path='matrices_allsessions/matrix'+str(i)+'.pkl'\n",
    "    infile = open(path,'rb')\n",
    "    df = pickle.load(infile)\n",
    "    infile.close()\n",
    "    df=df.reset_index()\n",
    "\n",
    "    X = df[feature_cols]\n",
    "    y = df.y\n",
    "    y= y.astype('int')\n",
    "    X_train, X_test, y_train, y_test = train_test_split(X, y, test_size=0.3, random_state=1)\n",
    "\n",
    "    infile = open('X_test5.pkl','rb')\n",
    "    X_test = pickle.load(infile)\n",
    "    infile.close()\n",
    "\n",
    "    infile = open('y_test5.pkl','rb')\n",
    "    y_test = pickle.load(infile)\n",
    "    infile.close()\n",
    "\n",
    "\n",
    "    k = 5\n",
    "    cv = KFold(n_splits=k, random_state=None)\n",
    "\n",
    "    a,p,r,f1,auc,probs = svm(i,y_test,X_test)\n",
    "    accuracySVM = accuracySVM.append({'Sentence': i, 'Accuracy':a,'Precision': p, 'Recall':r, 'F1':f1}, ignore_index=True)\n",
    "\n",
    "#accuracySVM.to_pickle('accuracySVM.pkl')"
   ]
  },
  {
   "cell_type": "code",
   "execution_count": null,
   "metadata": {},
   "outputs": [],
   "source": [
    "t = probs[:,:1].tolist()\n",
    "data_df = pd.DataFrame(t)\n",
    "print(data_df)\n",
    "data_df.to_pickle('svm5.pkl')"
   ]
  },
  {
   "cell_type": "code",
   "execution_count": null,
   "metadata": {},
   "outputs": [],
   "source": [
    "# sns.set_theme()\n",
    "\n",
    "# sns.lineplot(data=accuracySVM, x=\"Sentence\", y=\"Accuracy\")\n",
    "# plt.show()\n",
    "\n",
    "# sns.lineplot(data=accuracySVM, x=\"Sentence\", y=\"Precision\")\n",
    "# plt.show()\n",
    "\n",
    "# sns.lineplot(data=accuracySVM, x=\"Sentence\", y=\"Recall\")\n",
    "# plt.show()\n",
    "\n",
    "# sns.lineplot(data=accuracySVM, x=\"Sentence\", y=\"F1\")\n",
    "# plt.show()"
   ]
  }
 ],
 "metadata": {
  "kernelspec": {
   "display_name": "Python 3",
   "language": "python",
   "name": "python3"
  },
  "language_info": {
   "codemirror_mode": {
    "name": "ipython",
    "version": 3
   },
   "file_extension": ".py",
   "mimetype": "text/x-python",
   "name": "python",
   "nbconvert_exporter": "python",
   "pygments_lexer": "ipython3",
   "version": "3.10.2 (tags/v3.10.2:a58ebcc, Jan 17 2022, 14:12:15) [MSC v.1929 64 bit (AMD64)]"
  },
  "orig_nbformat": 4,
  "vscode": {
   "interpreter": {
    "hash": "369f2c481f4da34e4445cda3fffd2e751bd1c4d706f27375911949ba6bb62e1c"
   }
  }
 },
 "nbformat": 4,
 "nbformat_minor": 2
}
